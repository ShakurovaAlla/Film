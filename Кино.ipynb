{
 "cells": [
  {
   "cell_type": "code",
   "execution_count": 1,
   "id": "f0c74c34",
   "metadata": {},
   "outputs": [],
   "source": [
    "import requests\n",
    "from bs4 import BeautifulSoup\n",
    "from selenium import webdriver\n",
    "import pandas as pd\n",
    "import seaborn as sns\n",
    "import matplotlib.pyplot as plt\n",
    "from sklearn.linear_model import LinearRegression\n",
    "import statsmodels.api as sm\n",
    "from statsmodels.formula.api import ols\n",
    "\n",
    "sns.set(rc={'figure.figsize': (18, 6)})"
   ]
  },
  {
   "cell_type": "markdown",
   "id": "7c9e85d2",
   "metadata": {},
   "source": [
    "### Сбор и обработка данных: Как вы собираете и обрабатываете данные, которые будут использоваться для создания вашей истории. Вы должны указать источники данных и методы обработки.\n",
    "\n",
    "Для создания визуальной истории о кинопроизводстве использованы следующие библиотеки и методы:\n",
    "\n",
    "Сбор данных:\n",
    "\n",
    "requests: использована для выполнения HTTP-запросов и получения HTML-страниц с сайта.\n",
    "BeautifulSoup: использована для парсинга HTML и извлечения необходимых данных, таких как название фильмов, жанры, рейтинги.\n",
    "\n",
    "Обработка данных:\n",
    "\n",
    "pandas: использована для организации данных в структуру DataFrame для удобного анализа и манипуляции. Данные были очищены, отфильтрованы и подготовлены для анализа.\n",
    "Анализ данных:\n",
    "\n",
    "Корреляция: вычислена корреляция между различными переменными, такими как жанры фильмов и их рейтинги, чтобы выявить возможные взаимосвязи.\n",
    "Регрессионный анализ: проведен регрессионный анализ для определения влияния года выпуска фильма на его рейтинг.\n",
    "\n",
    "Визуализация данных:\n",
    "\n",
    "seaborn: использована для создания визуализаций данных, таких как графики распределения, регрессионные графики.\n",
    "\n",
    "Источник данных:\n",
    "\n",
    "Данные были собраны с сайта https://www.film.ru/a-z/movies/russia."
   ]
  },
  {
   "cell_type": "code",
   "execution_count": 2,
   "id": "7d81e8af",
   "metadata": {},
   "outputs": [],
   "source": [
    "url = \"https://www.film.ru/a-z/movies/russia\""
   ]
  },
  {
   "cell_type": "code",
   "execution_count": 3,
   "id": "692473c8",
   "metadata": {},
   "outputs": [],
   "source": [
    "r = requests.get(url)\n",
    "soup = BeautifulSoup(r.text, 'lxml')"
   ]
  },
  {
   "cell_type": "code",
   "execution_count": 4,
   "id": "f1519b0a",
   "metadata": {},
   "outputs": [
    {
     "data": {
      "text/plain": [
       "'Свет'"
      ]
     },
     "execution_count": 4,
     "metadata": {},
     "output_type": "execute_result"
    }
   ],
   "source": [
    "# Название\n",
    "name = soup.find('div', class_='redesign_afisha_movie') \\\n",
    "                    .find('a', class_='redesign_afisha_movie_main_title').text.strip()\n",
    "name"
   ]
  },
  {
   "cell_type": "code",
   "execution_count": 5,
   "id": "bc46a348",
   "metadata": {},
   "outputs": [
    {
     "data": {
      "text/plain": [
       "'2023'"
      ]
     },
     "execution_count": 5,
     "metadata": {},
     "output_type": "execute_result"
    }
   ],
   "source": [
    "# Оригинальное название\n",
    "year = soup.find('div', class_='redesign_afisha_movie') \\\n",
    "                     .find('div', class_='redesign_afisha_movie_main_subtitle').text.split('\\n')[1].strip()[:4]\n",
    "year"
   ]
  },
  {
   "cell_type": "code",
   "execution_count": 6,
   "id": "681e4917",
   "metadata": {},
   "outputs": [
    {
     "data": {
      "text/plain": [
       "'драма'"
      ]
     },
     "execution_count": 6,
     "metadata": {},
     "output_type": "execute_result"
    }
   ],
   "source": [
    "# Жанр\n",
    "genre = soup.find('div', class_='redesign_afisha_movie') \\\n",
    "            .find('div', class_='redesign_afisha_movie_main_info').text.split('/')[0].strip()\n",
    "genre"
   ]
  },
  {
   "cell_type": "code",
   "execution_count": 7,
   "id": "e60a9726",
   "metadata": {},
   "outputs": [
    {
     "data": {
      "text/plain": [
       "'Россия'"
      ]
     },
     "execution_count": 7,
     "metadata": {},
     "output_type": "execute_result"
    }
   ],
   "source": [
    "# Страна\n",
    "country = soup.find('div', class_='redesign_afisha_movie') \\\n",
    "            .find('div', class_='redesign_afisha_movie_main_info').text.split('/')[1].strip()\n",
    "country"
   ]
  },
  {
   "cell_type": "code",
   "execution_count": 8,
   "id": "a99a8b86",
   "metadata": {},
   "outputs": [
    {
     "name": "stdout",
     "output_type": "stream",
     "text": [
      "7.3\n"
     ]
    }
   ],
   "source": [
    "# Рейтинг IMDb\n",
    "rate_IMDb = soup.find('div', class_='redesign_afisha_movie') \\\n",
    "            .find('div', class_='redesign_afisha_movie_main_rating').text.split('\\n')\n",
    "\n",
    "for line in rate_IMDb:\n",
    "    if 'IMDb:' in line:\n",
    "        # Извлекаем следующую строку, содержащую рейтинг\n",
    "        rating_index = rate_IMDb.index(line) + 1\n",
    "        rating = rate_IMDb[rating_index].strip()\n",
    "        break\n",
    "print(rating)"
   ]
  },
  {
   "cell_type": "code",
   "execution_count": 9,
   "id": "861ecb10",
   "metadata": {},
   "outputs": [],
   "source": [
    "# Извлечение данных для всех фильмов\n",
    "\n",
    "films = soup.findAll('div', class_='redesign_afisha_movie')\n",
    "\n",
    "data=[]\n",
    "\n",
    "for film in films:\n",
    "    name = film.find('a', class_='redesign_afisha_movie_main_title').text.strip()\n",
    "    year = film.find('div', class_='redesign_afisha_movie_main_subtitle').text.split('\\n')[1].strip()[:4]\n",
    "    genre = film.find('div', class_='redesign_afisha_movie_main_info').text.split('/')[0].strip()\n",
    "    country = film.find('div', class_='redesign_afisha_movie_main_info').text.split('/')[1].strip()\n",
    "    rate_IMDb = film.find('div', class_='redesign_afisha_movie_main_rating').text.split('\\n')\n",
    "\n",
    "    for line in rate_IMDb:\n",
    "        if 'IMDb:' in line:\n",
    "            rating_index = rate_IMDb.index(line) + 1\n",
    "            rating = rate_IMDb[rating_index].strip()\n",
    "            break\n",
    "    \n",
    "    data.append([name, year, genre, country, rating])\n",
    "    "
   ]
  },
  {
   "cell_type": "code",
   "execution_count": 10,
   "id": "d135f4e5",
   "metadata": {},
   "outputs": [
    {
     "data": {
      "text/html": [
       "<div>\n",
       "<style scoped>\n",
       "    .dataframe tbody tr th:only-of-type {\n",
       "        vertical-align: middle;\n",
       "    }\n",
       "\n",
       "    .dataframe tbody tr th {\n",
       "        vertical-align: top;\n",
       "    }\n",
       "\n",
       "    .dataframe thead th {\n",
       "        text-align: right;\n",
       "    }\n",
       "</style>\n",
       "<table border=\"1\" class=\"dataframe\">\n",
       "  <thead>\n",
       "    <tr style=\"text-align: right;\">\n",
       "      <th></th>\n",
       "      <th>name</th>\n",
       "      <th>year</th>\n",
       "      <th>genre</th>\n",
       "      <th>country</th>\n",
       "      <th>rate_IMDb</th>\n",
       "    </tr>\n",
       "  </thead>\n",
       "  <tbody>\n",
       "    <tr>\n",
       "      <th>0</th>\n",
       "      <td>Свет</td>\n",
       "      <td>2023</td>\n",
       "      <td>драма</td>\n",
       "      <td>Россия</td>\n",
       "      <td>7.3</td>\n",
       "    </tr>\n",
       "    <tr>\n",
       "      <th>1</th>\n",
       "      <td>Бери да помни</td>\n",
       "      <td>2023</td>\n",
       "      <td>комедия</td>\n",
       "      <td>Россия</td>\n",
       "      <td>6.9</td>\n",
       "    </tr>\n",
       "    <tr>\n",
       "      <th>2</th>\n",
       "      <td>Кочегар</td>\n",
       "      <td>2010</td>\n",
       "      <td>детектив</td>\n",
       "      <td>Россия</td>\n",
       "      <td>6.6</td>\n",
       "    </tr>\n",
       "    <tr>\n",
       "      <th>3</th>\n",
       "      <td>Нелюбовь</td>\n",
       "      <td>0</td>\n",
       "      <td>драма</td>\n",
       "      <td>Россия</td>\n",
       "      <td>7.6</td>\n",
       "    </tr>\n",
       "    <tr>\n",
       "      <th>4</th>\n",
       "      <td>Аритмия</td>\n",
       "      <td>2017</td>\n",
       "      <td>драма</td>\n",
       "      <td>Россия</td>\n",
       "      <td>7.4</td>\n",
       "    </tr>\n",
       "  </tbody>\n",
       "</table>\n",
       "</div>"
      ],
      "text/plain": [
       "            name  year     genre country rate_IMDb\n",
       "0           Свет  2023     драма  Россия       7.3\n",
       "1  Бери да помни  2023   комедия  Россия       6.9\n",
       "2        Кочегар  2010  детектив  Россия       6.6\n",
       "3       Нелюбовь     0     драма  Россия       7.6\n",
       "4        Аритмия  2017     драма  Россия       7.4"
      ]
     },
     "execution_count": 10,
     "metadata": {},
     "output_type": "execute_result"
    }
   ],
   "source": [
    "header = ['name', 'year', 'genre', 'country', 'rate_IMDb']\n",
    "df = pd.DataFrame(data, columns=header)\n",
    "df.year = df.year.apply(lambda x: x[:4])\n",
    "df.head()\n",
    "df['year'] = pd.to_numeric(df['year'], errors='coerce').fillna(0).astype('int')\n",
    "df.head()"
   ]
  },
  {
   "cell_type": "code",
   "execution_count": 11,
   "id": "d15a733f",
   "metadata": {},
   "outputs": [],
   "source": [
    "df['rate_IMDb'] = pd.to_numeric(df['rate_IMDb'], errors='coerce')"
   ]
  },
  {
   "cell_type": "code",
   "execution_count": 12,
   "id": "b93eccec",
   "metadata": {},
   "outputs": [
    {
     "data": {
      "text/html": [
       "<div>\n",
       "<style scoped>\n",
       "    .dataframe tbody tr th:only-of-type {\n",
       "        vertical-align: middle;\n",
       "    }\n",
       "\n",
       "    .dataframe tbody tr th {\n",
       "        vertical-align: top;\n",
       "    }\n",
       "\n",
       "    .dataframe thead th {\n",
       "        text-align: right;\n",
       "    }\n",
       "</style>\n",
       "<table border=\"1\" class=\"dataframe\">\n",
       "  <thead>\n",
       "    <tr style=\"text-align: right;\">\n",
       "      <th></th>\n",
       "      <th>genre</th>\n",
       "      <th>name</th>\n",
       "    </tr>\n",
       "  </thead>\n",
       "  <tbody>\n",
       "    <tr>\n",
       "      <th>3</th>\n",
       "      <td>драма</td>\n",
       "      <td>23</td>\n",
       "    </tr>\n",
       "    <tr>\n",
       "      <th>4</th>\n",
       "      <td>комедия</td>\n",
       "      <td>3</td>\n",
       "    </tr>\n",
       "    <tr>\n",
       "      <th>1</th>\n",
       "      <td>боевик</td>\n",
       "      <td>2</td>\n",
       "    </tr>\n",
       "    <tr>\n",
       "      <th>0</th>\n",
       "      <td>биографический</td>\n",
       "      <td>1</td>\n",
       "    </tr>\n",
       "    <tr>\n",
       "      <th>2</th>\n",
       "      <td>детектив</td>\n",
       "      <td>1</td>\n",
       "    </tr>\n",
       "  </tbody>\n",
       "</table>\n",
       "</div>"
      ],
      "text/plain": [
       "            genre  name\n",
       "3           драма    23\n",
       "4         комедия     3\n",
       "1          боевик     2\n",
       "0  биографический     1\n",
       "2        детектив     1"
      ]
     },
     "execution_count": 12,
     "metadata": {},
     "output_type": "execute_result"
    }
   ],
   "source": [
    "# Группировка фильмов по жанрам\n",
    "df_genre = df.groupby('genre', as_index=False)['name'].count().sort_values('name', ascending=False)\n",
    "df_genre"
   ]
  },
  {
   "cell_type": "code",
   "execution_count": 13,
   "id": "bab5ce8a",
   "metadata": {},
   "outputs": [
    {
     "data": {
      "text/plain": [
       "Text(0.5, 1.0, 'Распределение фильмов по жанрам')"
      ]
     },
     "execution_count": 13,
     "metadata": {},
     "output_type": "execute_result"
    },
    {
     "data": {
      "image/png": "[encoded data removed]",
      "text/plain": [
       "<Figure size 1800x600 with 1 Axes>"
      ]
     },
     "metadata": {},
     "output_type": "display_data"
    }
   ],
   "source": [
    "sns.barplot(x='genre', y='name', data=df_genre)\n",
    "plt.title('Распределение фильмов по жанрам')"
   ]
  },
  {
   "cell_type": "code",
   "execution_count": 108,
   "id": "ff143abd",
   "metadata": {},
   "outputs": [
    {
     "data": {
      "text/html": [
       "<div>\n",
       "<style scoped>\n",
       "    .dataframe tbody tr th:only-of-type {\n",
       "        vertical-align: middle;\n",
       "    }\n",
       "\n",
       "    .dataframe tbody tr th {\n",
       "        vertical-align: top;\n",
       "    }\n",
       "\n",
       "    .dataframe thead th {\n",
       "        text-align: right;\n",
       "    }\n",
       "</style>\n",
       "<table border=\"1\" class=\"dataframe\">\n",
       "  <thead>\n",
       "    <tr style=\"text-align: right;\">\n",
       "      <th></th>\n",
       "      <th>genre</th>\n",
       "      <th>rate_IMDb</th>\n",
       "    </tr>\n",
       "  </thead>\n",
       "  <tbody>\n",
       "    <tr>\n",
       "      <th>0</th>\n",
       "      <td>биографический</td>\n",
       "      <td>7.40</td>\n",
       "    </tr>\n",
       "    <tr>\n",
       "      <th>1</th>\n",
       "      <td>боевик</td>\n",
       "      <td>7.30</td>\n",
       "    </tr>\n",
       "    <tr>\n",
       "      <th>4</th>\n",
       "      <td>комедия</td>\n",
       "      <td>7.03</td>\n",
       "    </tr>\n",
       "    <tr>\n",
       "      <th>3</th>\n",
       "      <td>драма</td>\n",
       "      <td>6.95</td>\n",
       "    </tr>\n",
       "    <tr>\n",
       "      <th>2</th>\n",
       "      <td>детектив</td>\n",
       "      <td>6.60</td>\n",
       "    </tr>\n",
       "  </tbody>\n",
       "</table>\n",
       "</div>"
      ],
      "text/plain": [
       "            genre  rate_IMDb\n",
       "0  биографический       7.40\n",
       "1          боевик       7.30\n",
       "4         комедия       7.03\n",
       "3           драма       6.95\n",
       "2        детектив       6.60"
      ]
     },
     "execution_count": 108,
     "metadata": {},
     "output_type": "execute_result"
    }
   ],
   "source": [
    "# Средний рейтинг фильмов по жанрам\n",
    "df_rating = round(df.groupby('genre', as_index=False)['rate_IMDb'].mean(), 2).sort_values('rate_IMDb', ascending=False)\n",
    "df_rating"
   ]
  },
  {
   "cell_type": "code",
   "execution_count": 109,
   "id": "d442484c",
   "metadata": {},
   "outputs": [
    {
     "data": {
      "text/plain": [
       "Text(0.5, 1.0, 'Распределение жанров по рейтингу')"
      ]
     },
     "execution_count": 109,
     "metadata": {},
     "output_type": "execute_result"
    },
    {
     "data": {
      "image/png": "[encoded data removed]",
      "text/plain": [
       "<Figure size 1800x600 with 1 Axes>"
      ]
     },
     "metadata": {},
     "output_type": "display_data"
    }
   ],
   "source": [
    "sns.barplot(x='genre', y='rate_IMDb', data=df_rating)\n",
    "plt.title('Распределение жанров по рейтингу')"
   ]
  },
  {
   "cell_type": "code",
   "execution_count": 128,
   "id": "c167a0ac",
   "metadata": {},
   "outputs": [
    {
     "name": "stderr",
     "output_type": "stream",
     "text": [
      "C:\\Users\\Alla\\AppData\\Local\\Temp\\ipykernel_7532\\582793284.py:2: FutureWarning: The default value of numeric_only in DataFrame.corr is deprecated. In a future version, it will default to False. Select only valid columns or specify the value of numeric_only to silence this warning.\n",
      "  df.corr()\n"
     ]
    },
    {
     "data": {
      "text/html": [
       "<div>\n",
       "<style scoped>\n",
       "    .dataframe tbody tr th:only-of-type {\n",
       "        vertical-align: middle;\n",
       "    }\n",
       "\n",
       "    .dataframe tbody tr th {\n",
       "        vertical-align: top;\n",
       "    }\n",
       "\n",
       "    .dataframe thead th {\n",
       "        text-align: right;\n",
       "    }\n",
       "</style>\n",
       "<table border=\"1\" class=\"dataframe\">\n",
       "  <thead>\n",
       "    <tr style=\"text-align: right;\">\n",
       "      <th></th>\n",
       "      <th>year</th>\n",
       "      <th>rate_IMDb</th>\n",
       "    </tr>\n",
       "  </thead>\n",
       "  <tbody>\n",
       "    <tr>\n",
       "      <th>year</th>\n",
       "      <td>1.000000</td>\n",
       "      <td>-0.220962</td>\n",
       "    </tr>\n",
       "    <tr>\n",
       "      <th>rate_IMDb</th>\n",
       "      <td>-0.220962</td>\n",
       "      <td>1.000000</td>\n",
       "    </tr>\n",
       "  </tbody>\n",
       "</table>\n",
       "</div>"
      ],
      "text/plain": [
       "               year  rate_IMDb\n",
       "year       1.000000  -0.220962\n",
       "rate_IMDb -0.220962   1.000000"
      ]
     },
     "execution_count": 128,
     "metadata": {},
     "output_type": "execute_result"
    }
   ],
   "source": [
    "# Посмотрим на корреляцию\n",
    "df.corr()"
   ]
  },
  {
   "cell_type": "markdown",
   "id": "dae6d38c",
   "metadata": {},
   "source": [
    "Значение -0.220962 указывает на слабую отрицательную корреляцию между годом и рейтингом IMDb. Это означает, что по мере увеличения года рейтинг IMDb имеет тенденцию к небольшому снижению, но связь очень слабая."
   ]
  },
  {
   "cell_type": "code",
   "execution_count": 142,
   "id": "bb6a08a0",
   "metadata": {},
   "outputs": [
    {
     "data": {
      "image/png": "[encoded data removed]",
      "text/plain": [
       "<Figure size 1800x600 with 1 Axes>"
      ]
     },
     "metadata": {},
     "output_type": "display_data"
    },
    {
     "name": "stdout",
     "output_type": "stream",
     "text": [
      "                            OLS Regression Results                            \n",
      "==============================================================================\n",
      "Dep. Variable:                      y   R-squared:                       0.052\n",
      "Model:                            OLS   Adj. R-squared:                  0.010\n",
      "Method:                 Least Squares   F-statistic:                     1.250\n",
      "Date:                Fri, 28 Jun 2024   Prob (F-statistic):              0.275\n",
      "Time:                        12:55:32   Log-Likelihood:                -26.807\n",
      "No. Observations:                  25   AIC:                             57.61\n",
      "Df Residuals:                      23   BIC:                             60.05\n",
      "Df Model:                           1                                         \n",
      "Covariance Type:            nonrobust                                         \n",
      "==============================================================================\n",
      "                 coef    std err          t      P>|t|      [0.025      0.975]\n",
      "------------------------------------------------------------------------------\n",
      "const         50.5563     39.015      1.296      0.208     -30.152     131.264\n",
      "x1            -0.0217      0.019     -1.118      0.275      -0.062       0.018\n",
      "==============================================================================\n",
      "Omnibus:                        4.239   Durbin-Watson:                   1.124\n",
      "Prob(Omnibus):                  0.120   Jarque-Bera (JB):                2.630\n",
      "Skew:                          -0.755   Prob(JB):                        0.269\n",
      "Kurtosis:                       3.495   Cond. No.                     5.33e+05\n",
      "==============================================================================\n",
      "\n",
      "Notes:\n",
      "[1] Standard Errors assume that the covariance matrix of the errors is correctly specified.\n",
      "[2] The condition number is large, 5.33e+05. This might indicate that there are\n",
      "strong multicollinearity or other numerical problems.\n"
     ]
    }
   ],
   "source": [
    "# Регрессионная модель\n",
    "\n",
    "df = df[df['year'] != 0]\n",
    "\n",
    "X = df['year'].values.reshape(-1, 1) \n",
    "y = df['rate_IMDb'].values\n",
    "\n",
    "# Создание модели линейной регрессии\n",
    "model = LinearRegression()\n",
    "model.fit(X, y)\n",
    "\n",
    "# Предсказание\n",
    "y_pred = model.predict(X)\n",
    "\n",
    "# Построение графика\n",
    "plt.scatter(X, y, color='blue')\n",
    "plt.plot(X, y_pred, color='red')\n",
    "plt.xlabel('Год')\n",
    "plt.ylabel('Рейтинг IMDb')\n",
    "plt.title('Регрессионный анализ: Рейтинг vs Год')\n",
    "plt.show()\n",
    "\n",
    "# Использование statsmodels для получения более детальной информации о модели\n",
    "X = sm.add_constant(X)  # Добавление константы\n",
    "model = sm.OLS(y, X).fit()\n",
    "predictions = model.predict(X)\n",
    "\n",
    "# Вывод результатов модели\n",
    "print(model.summary())"
   ]
  },
  {
   "cell_type": "markdown",
   "id": "bf21f2d9",
   "metadata": {},
   "source": [
    "Связь между годом выпуска фильма и его рейтингом слабая и не статистически значимая. "
   ]
  },
  {
   "cell_type": "markdown",
   "id": "10b53d50",
   "metadata": {},
   "source": [
    "Выводы:\n",
    "Взаимосвязь между количеством фильмов и рейтингом:\n",
    "\n",
    "Драма: несмотря на то, что драма является доминирующим жанром по количеству фильмов (23), средний рейтинг IMDb для драматических фильмов составляет 6.95, что ниже, чем у других жанров.\n",
    "Комедия представлена 3 фильмами с средним рейтингом 7.03, что выше, чем у драматических фильмов, но комедийных фильмов меньше.\n",
    "Боевик и Биографический: эти жанры имеют высокие рейтинги (7.30 и 7.40 соответственно), но небольшое количество фильмов (2 и 1 соответственно).\n",
    "Детектив: имеет самый низкий средний рейтинг (6.60) и представлен одним фильмом.\n",
    "\n",
    "Рекомендации для киностудий и продюсеров:\n",
    "\n",
    "Увеличение производства в жанрах с высоким рейтингом: стоит рассмотреть увеличение количества фильмов в жанрах \"Биографический\" и \"Боевик\", так как они имеют высокие рейтинги.\n",
    "Анализ качества драматических фильмов: оскольку драмы имеют относительно низкий средний рейтинг, необходимо провести анализ причин и работать над улучшением качества сценариев, актерской игры и режиссуры в этом жанре.\n",
    "Поддержка и развитие комедийных фильмов: комедии показывают хороший рейтинг при небольшом количестве фильмов, что может свидетельствовать о потенциале для роста в этом жанре.\n",
    "\n",
    "Маркетинговые стратегии:\n",
    "\n",
    "Акцент на продвижении высокорейтинговых фильмов: в маркетинговых кампаниях стоит делать упор на фильмы с высокими рейтингами, чтобы привлечь больше зрителей.\n",
    "Создание нишевых рекламных кампаний: для жанров с меньшим количеством фильмов, но высокими рейтингами, можно создать специализированные рекламные кампании для увеличения их популярности.\n",
    "Дополнительные исследования:\n",
    "\n",
    "Анализ аудитории: исследование предпочтений и отзывов зрителей по жанрам для более точного понимания их вкусов.\n",
    "Сравнительный анализ с предыдущими годами: сравнение данных по жанрам и рейтингам с предыдущими периодами для выявления трендов и изменений в предпочтениях зрителей."
   ]
  }
 ],
 "metadata": {
  "kernelspec": {
   "display_name": "Python 3 (ipykernel)",
   "language": "python",
   "name": "python3"
  },
  "language_info": {
   "codemirror_mode": {
    "name": "ipython",
    "version": 3
   },
   "file_extension": ".py",
   "mimetype": "text/x-python",
   "name": "python",
   "nbconvert_exporter": "python",
   "pygments_lexer": "ipython3",
   "version": "3.10.9"
  }
 },
 "nbformat": 4,
 "nbformat_minor": 5
}
